{
 "cells": [
  {
   "cell_type": "code",
   "execution_count": 1,
   "metadata": {},
   "outputs": [],
   "source": [
    "import pandas as pd\n",
    "import numpy as np\n",
    "from sklearn.cluster import KMeans\n",
    "from sklearn import metrics\n",
    "import matplotlib.pyplot as plt\n",
    "import seaborn as sns\n",
    "\n",
    "import warnings\n",
    "warnings.filterwarnings('ignore')\n",
    "\n",
    "from jupyterthemes import jtplot#设置图片显示格式\n",
    "jtplot.style(theme = 'monokai')#, grid=False"
   ]
  },
  {
   "cell_type": "markdown",
   "metadata": {},
   "source": [
    "### 1 读取数据"
   ]
  },
  {
   "cell_type": "code",
   "execution_count": null,
   "metadata": {},
   "outputs": [],
   "source": [
    "data = pd.read_csv('4.kmeans_train.csv', encoding='utf-8',engine='python') #读取数据\n",
    "#data.head() #查看表格默认前5行"
   ]
  },
  {
   "cell_type": "code",
   "execution_count": null,
   "metadata": {},
   "outputs": [],
   "source": [
    "data.head()"
   ]
  },
  {
   "cell_type": "markdown",
   "metadata": {},
   "source": [
    "### 2 数据预处理"
   ]
  },
  {
   "cell_type": "markdown",
   "metadata": {},
   "source": [
    "#### 2.1 数据探索性分析"
   ]
  },
  {
   "cell_type": "code",
   "execution_count": 5,
   "metadata": {},
   "outputs": [],
   "source": [
    "def explore(data):\n",
    "    #查看数据分布\n",
    "    print('-----描述性统计------')\n",
    "    print(data.describe())\n",
    "    \n",
    "    print('------缺失率------')\n",
    "    #查看数据缺失情况\n",
    "    list_datanull = [i for i in data.columns if (data[i].isnull().sum())>0]\n",
    "    for i in list_datanull:\n",
    "        mis_rate = data[i].isnull().sum()/data.shape[0]\n",
    "        print(i,'\\t',round(mis_rate,4))\n",
    "        \n",
    "    ##查看数据是否存在异常极端值\n",
    "    number_col = [i for i in data.columns if data[i].dtype=='float']\n",
    "    c=len(number_col)\n",
    "    k=round(c/4)\n",
    "    plt.figure(figsize = (4*4,4*k))\n",
    "    for i,fea in enumerate(number_col):\n",
    "        plt.subplot(k,4,i+1)  #k行4列展示图片\n",
    "        sns.boxplot(y=fea,data=data,width=0.4,fliersize=3,whis=3)\n",
    "        plt.xlabel(' ')"
   ]
  },
  {
   "cell_type": "code",
   "execution_count": 6,
   "metadata": {},
   "outputs": [
    {
     "name": "stdout",
     "output_type": "stream",
     "text": [
      "-----描述性统计------\n",
      "               k          g         c1         c2\n",
      "count  18.000000  20.000000  19.000000  20.000000\n",
      "mean    3.777778   4.100000   4.421053   3.450000\n",
      "std     2.157219   2.023546   2.063325   1.538112\n",
      "min     1.000000   2.000000   1.000000   1.000000\n",
      "25%     2.000000   2.000000   3.500000   2.000000\n",
      "50%     3.000000   3.500000   4.000000   3.000000\n",
      "75%     5.750000   6.250000   6.000000   5.000000\n",
      "max     8.000000   7.000000   8.000000   7.000000\n",
      "------缺失率------\n",
      "k \t 0.1429\n",
      "g \t 0.0476\n",
      "c1 \t 0.0952\n",
      "c2 \t 0.0476\n"
     ]
    },
    {
     "data": {
      "image/png": "[encoded data removed]",
      "text/plain": [
       "<Figure size 1152x288 with 4 Axes>"
      ]
     },
     "metadata": {
      "needs_background": "dark"
     },
     "output_type": "display_data"
    }
   ],
   "source": [
    "#查看数据分布\n",
    "explore(data)"
   ]
  },
  {
   "cell_type": "markdown",
   "metadata": {},
   "source": [
    "#### 2.2 缺失值处理"
   ]
  },
  {
   "cell_type": "code",
   "execution_count": 7,
   "metadata": {},
   "outputs": [],
   "source": [
    "def null_deal(data):\n",
    "    #删掉缺失率大于90%的样本\n",
    "    thresh=data.shape[1]*0.1\n",
    "    data.dropna(thresh=thresh,axis=0,inplace=True)\n",
    "    #print(data.shape)\n",
    "    #缺失列处理\n",
    "    list_datanull = [i for i in data.columns if (data[i].isnull().sum())>0]\n",
    "    for i in list_datanull:\n",
    "        mis_rate = data[i].isnull().sum()/data.shape[0]\n",
    "        if mis_rate<0.9:\n",
    "            if data[i].dtypes!='object':\n",
    "                data[i]=data[i].fillna(data[i].median())\n",
    "            else:\n",
    "                data[i]=data[i].fillna('unknow')\n",
    "        else:\n",
    "            data.drop(i,axis=1,inplace=True)\n",
    "        #print(data.shape)\n",
    "    return data"
   ]
  },
  {
   "cell_type": "code",
   "execution_count": 8,
   "metadata": {},
   "outputs": [],
   "source": [
    "data=null_deal(data)"
   ]
  },
  {
   "cell_type": "markdown",
   "metadata": {},
   "source": [
    "#### 2.3 异常值处理"
   ]
  },
  {
   "cell_type": "code",
   "execution_count": 9,
   "metadata": {},
   "outputs": [],
   "source": [
    "#替换异常值(盖帽法)\n",
    "def outlier_deal(data):  \n",
    "    number_col = [i for i in data.columns if data[i].dtype!='object']\n",
    "    data_c=data.drop(number_col,axis=1)\n",
    "    data = data[number_col]\n",
    "    data_des = data.describe()\n",
    "    des_col=data_des.columns\n",
    "    for i,col in enumerate(des_col):\n",
    "        sts= data_des.iloc[:,i]\n",
    "        shangjie = sts['75%']+4*(sts['75%']-sts['25%'])   #上界\n",
    "        xiajie = sts['25%']-4*(sts['75%']-sts['25%'])   #上界\n",
    "        data[col]=np.where(data[col]>shangjie,shangjie,data[col])\n",
    "        data[col]=np.where(data[col]<xiajie,xiajie,data[col])\n",
    "    #合并数据\n",
    "    data = pd.concat([data_c,data],axis = 1,ignore_index = False)\n",
    "    return data   "
   ]
  },
  {
   "cell_type": "code",
   "execution_count": 10,
   "metadata": {},
   "outputs": [],
   "source": [
    "data=outlier_deal(data)"
   ]
  },
  {
   "cell_type": "markdown",
   "metadata": {},
   "source": [
    "#### 2.4 数据标准化处理"
   ]
  },
  {
   "cell_type": "code",
   "execution_count": 11,
   "metadata": {},
   "outputs": [],
   "source": [
    "#数据量纲不一样，聚类前需要对数据进行标准化处理\n",
    "\n",
    "#data_zs = 1.0*(data[col] - data[col].mean())/data[col].std() #连续型数据标准化\n",
    "from sklearn.preprocessing import StandardScaler\n",
    "\n",
    "def zscore_deal(data):\n",
    "    col = [i for i in data.columns if data[i].dtype!='object']\n",
    "    sc =StandardScaler() # 初始化缩放器\n",
    "    data[col]=sc.fit_transform(data[col]) #对数据进行标准化\n",
    "    return data\n",
    "\n",
    "#训练数据标准化\n",
    "data=zscore_deal(data)"
   ]
  },
  {
   "cell_type": "markdown",
   "metadata": {},
   "source": [
    "### 3 选取模型最优参数"
   ]
  },
  {
   "cell_type": "markdown",
   "metadata": {},
   "source": [
    "#### 3.1 利用SSE选择K"
   ]
  },
  {
   "cell_type": "code",
   "execution_count": 12,
   "metadata": {},
   "outputs": [
    {
     "data": {
      "image/png": "[encoded data removed]",
      "text/plain": [
       "<Figure size 432x288 with 1 Axes>"
      ]
     },
     "metadata": {
      "needs_background": "dark"
     },
     "output_type": "display_data"
    }
   ],
   "source": [
    "#SSE拐点处的K为最优取值\n",
    "SSE = []  # 存放每次结果的误差平方和\n",
    "for k in range(1,9):\n",
    "    estimator = KMeans(n_clusters=k,init='k-means++', random_state=42)  # 构造聚类器\n",
    "    estimator.fit(data)\n",
    "    SSE.append(estimator.inertia_)\n",
    "X = range(1,9)\n",
    "plt.xlabel('k')\n",
    "plt.ylabel('SSE')\n",
    "plt.plot(X,SSE,'o-')\n",
    "plt.show()"
   ]
  },
  {
   "cell_type": "markdown",
   "metadata": {},
   "source": [
    "#### 3.2 利用轮廓系数选择最优K"
   ]
  },
  {
   "cell_type": "code",
   "execution_count": 13,
   "metadata": {},
   "outputs": [
    {
     "data": {
      "image/png": "[encoded data removed]",
      "text/plain": [
       "<Figure size 432x288 with 1 Axes>"
      ]
     },
     "metadata": {
      "needs_background": "dark"
     },
     "output_type": "display_data"
    }
   ],
   "source": [
    "#轮廓系数:s值越接近1表示样本分类越合理,越接近-1,表示样本j应该分类到另外的簇中,近似为0,表示样本应该在边界上;所有样本的s的均值被成为聚类结果的轮廓系数。\n",
    "#选择轮廓系数最大的K\n",
    "Scores = []  # 存放轮廓系数\n",
    "for k in range(2,9):\n",
    "    estimator = KMeans(n_clusters=k,init='k-means++', random_state=42)  # 构造聚类器\n",
    "    estimator.fit(data)\n",
    "    Scores.append(metrics.silhouette_score(data,estimator.labels_,metric='euclidean'))\n",
    "X = range(2,9)\n",
    "plt.xlabel('k')\n",
    "plt.ylabel(u'轮廓系数')\n",
    "plt.plot(X,Scores,'o-')\n",
    "plt.show()"
   ]
  },
  {
   "cell_type": "markdown",
   "metadata": {},
   "source": [
    "### 4 训练最优参数对应的模型"
   ]
  },
  {
   "cell_type": "markdown",
   "metadata": {},
   "source": [
    "#### 4.1 训练模型"
   ]
  },
  {
   "cell_type": "code",
   "execution_count": 14,
   "metadata": {},
   "outputs": [
    {
     "name": "stdout",
     "output_type": "stream",
     "text": [
      "聚类标签:[2 3 2 3 0 3 0 2 3 0 1 1 1 2 1 0 0 1 1 3 1]\n",
      "聚类中心:[[ 0.27212054  0.58505144  1.36817614  0.52615154]\n",
      " [-0.77748725 -0.77760002 -0.57214638  0.48717735]\n",
      " [-0.72282018  1.51817147 -0.19900744 -1.14486678]\n",
      " [ 1.39461775 -0.71094859 -0.40796525 -0.29230641]]\n"
     ]
    }
   ],
   "source": [
    "kms=KMeans(n_clusters=4,init='k-means++' , random_state=42)#初始化聚类器 \n",
    "kms.fit(data)                     #训练聚类模型\n",
    "label_kms=kms.labels_             #获取聚类标签\n",
    "print('聚类标签:%s'%label_kms)\n",
    "center_kms=kms.cluster_centers_    #获取聚类中心\n",
    "print('聚类中心:%s'%center_kms)\n",
    "#inertia =kms.inertia_            # 获取聚类准则的总和\n",
    "#print('SSE：%f'%inertia)\n",
    "#print('轮廓系数：%f'%metrics.silhouette_score(data, label_kms, metric='euclidean'))"
   ]
  },
  {
   "cell_type": "code",
   "execution_count": 15,
   "metadata": {},
   "outputs": [],
   "source": [
    "#每类的聚类中心及其数目\n",
    "label_count=pd.Series(kms.labels_).value_counts() #获取聚类标签\n",
    "label_center=pd.DataFrame(kms.cluster_centers_)   #获取聚类中心\n",
    "data_c=pd.concat([label_center,label_count],axis=1)\n",
    "data_c.columns=list(label_center)+['类别数目']"
   ]
  },
  {
   "cell_type": "code",
   "execution_count": 16,
   "metadata": {},
   "outputs": [
    {
     "data": {
      "text/html": [
       "<div>\n",
       "<style scoped>\n",
       "    .dataframe tbody tr th:only-of-type {\n",
       "        vertical-align: middle;\n",
       "    }\n",
       "\n",
       "    .dataframe tbody tr th {\n",
       "        vertical-align: top;\n",
       "    }\n",
       "\n",
       "    .dataframe thead th {\n",
       "        text-align: right;\n",
       "    }\n",
       "</style>\n",
       "<table border=\"1\" class=\"dataframe\">\n",
       "  <thead>\n",
       "    <tr style=\"text-align: right;\">\n",
       "      <th></th>\n",
       "      <th>0</th>\n",
       "      <th>1</th>\n",
       "      <th>2</th>\n",
       "      <th>3</th>\n",
       "      <th>类别数目</th>\n",
       "    </tr>\n",
       "  </thead>\n",
       "  <tbody>\n",
       "    <tr>\n",
       "      <th>0</th>\n",
       "      <td>0.272121</td>\n",
       "      <td>0.585051</td>\n",
       "      <td>1.368176</td>\n",
       "      <td>0.526152</td>\n",
       "      <td>5</td>\n",
       "    </tr>\n",
       "    <tr>\n",
       "      <th>1</th>\n",
       "      <td>-0.777487</td>\n",
       "      <td>-0.777600</td>\n",
       "      <td>-0.572146</td>\n",
       "      <td>0.487177</td>\n",
       "      <td>7</td>\n",
       "    </tr>\n",
       "    <tr>\n",
       "      <th>2</th>\n",
       "      <td>-0.722820</td>\n",
       "      <td>1.518171</td>\n",
       "      <td>-0.199007</td>\n",
       "      <td>-1.144867</td>\n",
       "      <td>4</td>\n",
       "    </tr>\n",
       "    <tr>\n",
       "      <th>3</th>\n",
       "      <td>1.394618</td>\n",
       "      <td>-0.710949</td>\n",
       "      <td>-0.407965</td>\n",
       "      <td>-0.292306</td>\n",
       "      <td>5</td>\n",
       "    </tr>\n",
       "  </tbody>\n",
       "</table>\n",
       "</div>"
      ],
      "text/plain": [
       "          0         1         2         3  类别数目\n",
       "0  0.272121  0.585051  1.368176  0.526152     5\n",
       "1 -0.777487 -0.777600 -0.572146  0.487177     7\n",
       "2 -0.722820  1.518171 -0.199007 -1.144867     4\n",
       "3  1.394618 -0.710949 -0.407965 -0.292306     5"
      ]
     },
     "execution_count": 16,
     "metadata": {},
     "output_type": "execute_result"
    }
   ],
   "source": [
    "data_c"
   ]
  },
  {
   "cell_type": "code",
   "execution_count": 18,
   "metadata": {},
   "outputs": [],
   "source": [
    "#给每个样本打标归类\n",
    "data_label=pd.concat([data,pd.Series(kms.labels_,index=data.index)],axis=1)\n",
    "data_label.columns=list(data.columns)+['聚类类别']\n",
    "# data_label.to_excel('result.csv',index=False)"
   ]
  },
  {
   "cell_type": "code",
   "execution_count": 20,
   "metadata": {},
   "outputs": [
    {
     "data": {
      "text/html": [
       "<div>\n",
       "<style scoped>\n",
       "    .dataframe tbody tr th:only-of-type {\n",
       "        vertical-align: middle;\n",
       "    }\n",
       "\n",
       "    .dataframe tbody tr th {\n",
       "        vertical-align: top;\n",
       "    }\n",
       "\n",
       "    .dataframe thead th {\n",
       "        text-align: right;\n",
       "    }\n",
       "</style>\n",
       "<table border=\"1\" class=\"dataframe\">\n",
       "  <thead>\n",
       "    <tr style=\"text-align: right;\">\n",
       "      <th></th>\n",
       "      <th>k</th>\n",
       "      <th>g</th>\n",
       "      <th>c1</th>\n",
       "      <th>c2</th>\n",
       "      <th>聚类类别</th>\n",
       "    </tr>\n",
       "  </thead>\n",
       "  <tbody>\n",
       "    <tr>\n",
       "      <th>0</th>\n",
       "      <td>-0.340151</td>\n",
       "      <td>1.518171</td>\n",
       "      <td>-0.199007</td>\n",
       "      <td>-1.656403</td>\n",
       "      <td>2</td>\n",
       "    </tr>\n",
       "    <tr>\n",
       "      <th>1</th>\n",
       "      <td>1.190527</td>\n",
       "      <td>-1.073829</td>\n",
       "      <td>-0.199007</td>\n",
       "      <td>1.071790</td>\n",
       "      <td>3</td>\n",
       "    </tr>\n",
       "    <tr>\n",
       "      <th>2</th>\n",
       "      <td>-0.850377</td>\n",
       "      <td>1.518171</td>\n",
       "      <td>-0.199007</td>\n",
       "      <td>-0.974355</td>\n",
       "      <td>2</td>\n",
       "    </tr>\n",
       "    <tr>\n",
       "      <th>3</th>\n",
       "      <td>2.210979</td>\n",
       "      <td>-0.296229</td>\n",
       "      <td>0.845782</td>\n",
       "      <td>-0.292306</td>\n",
       "      <td>3</td>\n",
       "    </tr>\n",
       "    <tr>\n",
       "      <th>4</th>\n",
       "      <td>-0.340151</td>\n",
       "      <td>-0.037029</td>\n",
       "      <td>1.368176</td>\n",
       "      <td>1.071790</td>\n",
       "      <td>0</td>\n",
       "    </tr>\n",
       "  </tbody>\n",
       "</table>\n",
       "</div>"
      ],
      "text/plain": [
       "          k         g        c1        c2  聚类类别\n",
       "0 -0.340151  1.518171 -0.199007 -1.656403     2\n",
       "1  1.190527 -1.073829 -0.199007  1.071790     3\n",
       "2 -0.850377  1.518171 -0.199007 -0.974355     2\n",
       "3  2.210979 -0.296229  0.845782 -0.292306     3\n",
       "4 -0.340151 -0.037029  1.368176  1.071790     0"
      ]
     },
     "execution_count": 20,
     "metadata": {},
     "output_type": "execute_result"
    }
   ],
   "source": [
    "data_label.head()"
   ]
  },
  {
   "cell_type": "markdown",
   "metadata": {},
   "source": [
    "#### 4.2 保存模型\n",
    "方便下次调用训练好的模型来预测新的数据"
   ]
  },
  {
   "cell_type": "code",
   "execution_count": 22,
   "metadata": {},
   "outputs": [
    {
     "data": {
      "text/plain": [
       "['cluster.pkl']"
      ]
     },
     "execution_count": 22,
     "metadata": {},
     "output_type": "execute_result"
    }
   ],
   "source": [
    "from sklearn.externals import joblib\n",
    "\n",
    "# 存储训练好的模型\n",
    "joblib.dump(kms,'cluster.pkl')"
   ]
  },
  {
   "cell_type": "markdown",
   "metadata": {},
   "source": [
    "#### 4.3 预测新数据"
   ]
  },
  {
   "cell_type": "code",
   "execution_count": 23,
   "metadata": {},
   "outputs": [
    {
     "data": {
      "text/plain": [
       "array([2, 1, 2, 3, 0, 3, 0, 0, 1, 1])"
      ]
     },
     "execution_count": 23,
     "metadata": {},
     "output_type": "execute_result"
    }
   ],
   "source": [
    "#读取新数据\n",
    "test=pd.read_csv('4.kmeans_test.csv',encoding='utf-8',engine='python')\n",
    "\n",
    "#再次调用训练好的模型\n",
    "kms = joblib.load('cluster.pkl')\n",
    "\n",
    "#测试数据处理(对测试数据做同样的预处理工作)\n",
    "#缺失值处理\n",
    "test=null_deal(test)\n",
    "#异常值处理\n",
    "test=outlier_deal(test)\n",
    "#标准化处理\n",
    "test=zscore_deal(test)\n",
    "\n",
    "#预测新数据\n",
    "kms.predict(test)"
   ]
  },
  {
   "cell_type": "code",
   "execution_count": 25,
   "metadata": {},
   "outputs": [],
   "source": [
    "test_label=pd.Series(kms.predict(test))\n",
    "test_labels=pd.concat([test,test_label],axis=1)\n",
    "test_labels.columns=list(test.columns)+['聚类类别']"
   ]
  },
  {
   "cell_type": "code",
   "execution_count": 26,
   "metadata": {},
   "outputs": [
    {
     "data": {
      "text/html": [
       "<div>\n",
       "<style scoped>\n",
       "    .dataframe tbody tr th:only-of-type {\n",
       "        vertical-align: middle;\n",
       "    }\n",
       "\n",
       "    .dataframe tbody tr th {\n",
       "        vertical-align: top;\n",
       "    }\n",
       "\n",
       "    .dataframe thead th {\n",
       "        text-align: right;\n",
       "    }\n",
       "</style>\n",
       "<table border=\"1\" class=\"dataframe\">\n",
       "  <thead>\n",
       "    <tr style=\"text-align: right;\">\n",
       "      <th></th>\n",
       "      <th>k</th>\n",
       "      <th>g</th>\n",
       "      <th>c1</th>\n",
       "      <th>c2</th>\n",
       "      <th>聚类类别</th>\n",
       "    </tr>\n",
       "  </thead>\n",
       "  <tbody>\n",
       "    <tr>\n",
       "      <th>0</th>\n",
       "      <td>0.792406</td>\n",
       "      <td>1.262672</td>\n",
       "      <td>-0.703989</td>\n",
       "      <td>-1.615385</td>\n",
       "      <td>2</td>\n",
       "    </tr>\n",
       "    <tr>\n",
       "      <th>1</th>\n",
       "      <td>-0.088045</td>\n",
       "      <td>-1.165543</td>\n",
       "      <td>-0.703989</td>\n",
       "      <td>1.461538</td>\n",
       "      <td>1</td>\n",
       "    </tr>\n",
       "    <tr>\n",
       "      <th>2</th>\n",
       "      <td>-1.848947</td>\n",
       "      <td>1.262672</td>\n",
       "      <td>-0.162459</td>\n",
       "      <td>-0.846154</td>\n",
       "      <td>2</td>\n",
       "    </tr>\n",
       "    <tr>\n",
       "      <th>3</th>\n",
       "      <td>0.792406</td>\n",
       "      <td>-1.165543</td>\n",
       "      <td>0.379071</td>\n",
       "      <td>-0.076923</td>\n",
       "      <td>3</td>\n",
       "    </tr>\n",
       "    <tr>\n",
       "      <th>4</th>\n",
       "      <td>1.672857</td>\n",
       "      <td>-0.194257</td>\n",
       "      <td>0.920602</td>\n",
       "      <td>1.461538</td>\n",
       "      <td>0</td>\n",
       "    </tr>\n",
       "    <tr>\n",
       "      <th>5</th>\n",
       "      <td>0.352180</td>\n",
       "      <td>-0.679900</td>\n",
       "      <td>-0.162459</td>\n",
       "      <td>-0.846154</td>\n",
       "      <td>3</td>\n",
       "    </tr>\n",
       "    <tr>\n",
       "      <th>6</th>\n",
       "      <td>-0.528271</td>\n",
       "      <td>0.777029</td>\n",
       "      <td>0.920602</td>\n",
       "      <td>0.692308</td>\n",
       "      <td>0</td>\n",
       "    </tr>\n",
       "    <tr>\n",
       "      <th>7</th>\n",
       "      <td>0.352180</td>\n",
       "      <td>1.262672</td>\n",
       "      <td>0.920602</td>\n",
       "      <td>-0.846154</td>\n",
       "      <td>0</td>\n",
       "    </tr>\n",
       "    <tr>\n",
       "      <th>8</th>\n",
       "      <td>-0.088045</td>\n",
       "      <td>-1.165543</td>\n",
       "      <td>-2.328581</td>\n",
       "      <td>0.692308</td>\n",
       "      <td>1</td>\n",
       "    </tr>\n",
       "    <tr>\n",
       "      <th>9</th>\n",
       "      <td>-1.408721</td>\n",
       "      <td>-0.194257</td>\n",
       "      <td>0.920602</td>\n",
       "      <td>-0.076923</td>\n",
       "      <td>1</td>\n",
       "    </tr>\n",
       "  </tbody>\n",
       "</table>\n",
       "</div>"
      ],
      "text/plain": [
       "          k         g        c1        c2  聚类类别\n",
       "0  0.792406  1.262672 -0.703989 -1.615385     2\n",
       "1 -0.088045 -1.165543 -0.703989  1.461538     1\n",
       "2 -1.848947  1.262672 -0.162459 -0.846154     2\n",
       "3  0.792406 -1.165543  0.379071 -0.076923     3\n",
       "4  1.672857 -0.194257  0.920602  1.461538     0\n",
       "5  0.352180 -0.679900 -0.162459 -0.846154     3\n",
       "6 -0.528271  0.777029  0.920602  0.692308     0\n",
       "7  0.352180  1.262672  0.920602 -0.846154     0\n",
       "8 -0.088045 -1.165543 -2.328581  0.692308     1\n",
       "9 -1.408721 -0.194257  0.920602 -0.076923     1"
      ]
     },
     "execution_count": 26,
     "metadata": {},
     "output_type": "execute_result"
    }
   ],
   "source": [
    "test_labels"
   ]
  },
  {
   "cell_type": "markdown",
   "metadata": {},
   "source": [
    "### 混合数据聚类\n",
    "若数据只有连续变量用K-means;\n",
    "若数据只有分裂变量用K-modes;\n",
    "若数据只有分裂变量用K-prototypes。"
   ]
  },
  {
   "cell_type": "code",
   "execution_count": null,
   "metadata": {},
   "outputs": [],
   "source": []
  },
  {
   "cell_type": "code",
   "execution_count": null,
   "metadata": {},
   "outputs": [],
   "source": [
    "from kmodes.kprototypes import KPrototypes"
   ]
  },
  {
   "cell_type": "code",
   "execution_count": 183,
   "metadata": {},
   "outputs": [],
   "source": [
    "data1=pd.read_csv('4.kprototypes_train.csv')"
   ]
  },
  {
   "cell_type": "code",
   "execution_count": 185,
   "metadata": {},
   "outputs": [
    {
     "data": {
      "text/html": [
       "<div>\n",
       "<style scoped>\n",
       "    .dataframe tbody tr th:only-of-type {\n",
       "        vertical-align: middle;\n",
       "    }\n",
       "\n",
       "    .dataframe tbody tr th {\n",
       "        vertical-align: top;\n",
       "    }\n",
       "\n",
       "    .dataframe thead th {\n",
       "        text-align: right;\n",
       "    }\n",
       "</style>\n",
       "<table border=\"1\" class=\"dataframe\">\n",
       "  <thead>\n",
       "    <tr style=\"text-align: right;\">\n",
       "      <th></th>\n",
       "      <th>k</th>\n",
       "      <th>g</th>\n",
       "      <th>c1</th>\n",
       "      <th>c2</th>\n",
       "    </tr>\n",
       "  </thead>\n",
       "  <tbody>\n",
       "    <tr>\n",
       "      <th>0</th>\n",
       "      <td>NaN</td>\n",
       "      <td>7.0</td>\n",
       "      <td>4.0</td>\n",
       "      <td>1.0</td>\n",
       "    </tr>\n",
       "    <tr>\n",
       "      <th>1</th>\n",
       "      <td>a</td>\n",
       "      <td>2.0</td>\n",
       "      <td>4.0</td>\n",
       "      <td>5.0</td>\n",
       "    </tr>\n",
       "    <tr>\n",
       "      <th>2</th>\n",
       "      <td>c</td>\n",
       "      <td>7.0</td>\n",
       "      <td>NaN</td>\n",
       "      <td>2.0</td>\n",
       "    </tr>\n",
       "    <tr>\n",
       "      <th>3</th>\n",
       "      <td>b</td>\n",
       "      <td>NaN</td>\n",
       "      <td>6.0</td>\n",
       "      <td>3.0</td>\n",
       "    </tr>\n",
       "    <tr>\n",
       "      <th>4</th>\n",
       "      <td>NaN</td>\n",
       "      <td>4.0</td>\n",
       "      <td>7.0</td>\n",
       "      <td>5.0</td>\n",
       "    </tr>\n",
       "  </tbody>\n",
       "</table>\n",
       "</div>"
      ],
      "text/plain": [
       "     k    g   c1   c2\n",
       "0  NaN  7.0  4.0  1.0\n",
       "1    a  2.0  4.0  5.0\n",
       "2    c  7.0  NaN  2.0\n",
       "3    b  NaN  6.0  3.0\n",
       "4  NaN  4.0  7.0  5.0"
      ]
     },
     "execution_count": 185,
     "metadata": {},
     "output_type": "execute_result"
    }
   ],
   "source": [
    "data1.head()"
   ]
  },
  {
   "cell_type": "code",
   "execution_count": 186,
   "metadata": {},
   "outputs": [
    {
     "name": "stdout",
     "output_type": "stream",
     "text": [
      "-----描述性统计------\n",
      "               g         c1         c2\n",
      "count  15.000000  14.000000  15.000000\n",
      "mean    4.333333   4.571429   3.200000\n",
      "std     2.225395   2.243428   1.373213\n",
      "min     2.000000   1.000000   1.000000\n",
      "25%     2.000000   4.000000   2.000000\n",
      "50%     4.000000   4.000000   3.000000\n",
      "75%     7.000000   6.750000   4.500000\n",
      "max     7.000000   8.000000   5.000000\n",
      "------缺失率------\n",
      "k \t 0.1875\n",
      "g \t 0.0625\n",
      "c1 \t 0.125\n",
      "c2 \t 0.0625\n"
     ]
    },
    {
     "data": {
      "image/png": "[encoded data removed]",
      "text/plain": [
       "<Figure size 1152x288 with 3 Axes>"
      ]
     },
     "metadata": {},
     "output_type": "display_data"
    }
   ],
   "source": [
    "#数据探索性分析\n",
    "explore(data1)"
   ]
  },
  {
   "cell_type": "code",
   "execution_count": 189,
   "metadata": {},
   "outputs": [],
   "source": [
    "#缺失值处理\n",
    "data1=null_deal(data1)\n",
    "#异常值处理\n",
    "data1=outlier_deal(data1)"
   ]
  },
  {
   "cell_type": "code",
   "execution_count": 190,
   "metadata": {},
   "outputs": [],
   "source": [
    "#标准化处理\n",
    "data1=zscore_deal(data1)"
   ]
  },
  {
   "cell_type": "code",
   "execution_count": 191,
   "metadata": {},
   "outputs": [
    {
     "data": {
      "text/html": [
       "<div>\n",
       "<style scoped>\n",
       "    .dataframe tbody tr th:only-of-type {\n",
       "        vertical-align: middle;\n",
       "    }\n",
       "\n",
       "    .dataframe tbody tr th {\n",
       "        vertical-align: top;\n",
       "    }\n",
       "\n",
       "    .dataframe thead th {\n",
       "        text-align: right;\n",
       "    }\n",
       "</style>\n",
       "<table border=\"1\" class=\"dataframe\">\n",
       "  <thead>\n",
       "    <tr style=\"text-align: right;\">\n",
       "      <th></th>\n",
       "      <th>g</th>\n",
       "      <th>c1</th>\n",
       "      <th>c2</th>\n",
       "    </tr>\n",
       "  </thead>\n",
       "  <tbody>\n",
       "    <tr>\n",
       "      <th>0</th>\n",
       "      <td>1.249100</td>\n",
       "      <td>-0.238366</td>\n",
       "      <td>-1.647720</td>\n",
       "    </tr>\n",
       "    <tr>\n",
       "      <th>1</th>\n",
       "      <td>-1.074807</td>\n",
       "      <td>-0.238366</td>\n",
       "      <td>1.365254</td>\n",
       "    </tr>\n",
       "    <tr>\n",
       "      <th>2</th>\n",
       "      <td>1.249100</td>\n",
       "      <td>-0.238366</td>\n",
       "      <td>-0.894477</td>\n",
       "    </tr>\n",
       "    <tr>\n",
       "      <th>3</th>\n",
       "      <td>-0.145244</td>\n",
       "      <td>0.715097</td>\n",
       "      <td>-0.141233</td>\n",
       "    </tr>\n",
       "    <tr>\n",
       "      <th>4</th>\n",
       "      <td>-0.145244</td>\n",
       "      <td>1.191828</td>\n",
       "      <td>1.365254</td>\n",
       "    </tr>\n",
       "    <tr>\n",
       "      <th>5</th>\n",
       "      <td>-0.610025</td>\n",
       "      <td>0.238366</td>\n",
       "      <td>-0.894477</td>\n",
       "    </tr>\n",
       "    <tr>\n",
       "      <th>6</th>\n",
       "      <td>0.784318</td>\n",
       "      <td>1.191828</td>\n",
       "      <td>0.612010</td>\n",
       "    </tr>\n",
       "    <tr>\n",
       "      <th>7</th>\n",
       "      <td>1.249100</td>\n",
       "      <td>-0.238366</td>\n",
       "      <td>-0.894477</td>\n",
       "    </tr>\n",
       "    <tr>\n",
       "      <th>8</th>\n",
       "      <td>-1.074807</td>\n",
       "      <td>-1.668560</td>\n",
       "      <td>-0.141233</td>\n",
       "    </tr>\n",
       "    <tr>\n",
       "      <th>9</th>\n",
       "      <td>-0.145244</td>\n",
       "      <td>1.191828</td>\n",
       "      <td>-0.141233</td>\n",
       "    </tr>\n",
       "    <tr>\n",
       "      <th>10</th>\n",
       "      <td>-1.074807</td>\n",
       "      <td>-0.238366</td>\n",
       "      <td>1.365254</td>\n",
       "    </tr>\n",
       "    <tr>\n",
       "      <th>11</th>\n",
       "      <td>-1.074807</td>\n",
       "      <td>-1.668560</td>\n",
       "      <td>-0.141233</td>\n",
       "    </tr>\n",
       "    <tr>\n",
       "      <th>12</th>\n",
       "      <td>-1.074807</td>\n",
       "      <td>-1.191828</td>\n",
       "      <td>0.612010</td>\n",
       "    </tr>\n",
       "    <tr>\n",
       "      <th>13</th>\n",
       "      <td>1.249100</td>\n",
       "      <td>-0.238366</td>\n",
       "      <td>-0.894477</td>\n",
       "    </tr>\n",
       "    <tr>\n",
       "      <th>14</th>\n",
       "      <td>-0.610025</td>\n",
       "      <td>-0.238366</td>\n",
       "      <td>1.365254</td>\n",
       "    </tr>\n",
       "    <tr>\n",
       "      <th>15</th>\n",
       "      <td>1.249100</td>\n",
       "      <td>1.668560</td>\n",
       "      <td>-0.894477</td>\n",
       "    </tr>\n",
       "  </tbody>\n",
       "</table>\n",
       "</div>"
      ],
      "text/plain": [
       "           g        c1        c2\n",
       "0   1.249100 -0.238366 -1.647720\n",
       "1  -1.074807 -0.238366  1.365254\n",
       "2   1.249100 -0.238366 -0.894477\n",
       "3  -0.145244  0.715097 -0.141233\n",
       "4  -0.145244  1.191828  1.365254\n",
       "5  -0.610025  0.238366 -0.894477\n",
       "6   0.784318  1.191828  0.612010\n",
       "7   1.249100 -0.238366 -0.894477\n",
       "8  -1.074807 -1.668560 -0.141233\n",
       "9  -0.145244  1.191828 -0.141233\n",
       "10 -1.074807 -0.238366  1.365254\n",
       "11 -1.074807 -1.668560 -0.141233\n",
       "12 -1.074807 -1.191828  0.612010\n",
       "13  1.249100 -0.238366 -0.894477\n",
       "14 -0.610025 -0.238366  1.365254\n",
       "15  1.249100  1.668560 -0.894477"
      ]
     },
     "execution_count": 191,
     "metadata": {},
     "output_type": "execute_result"
    }
   ],
   "source": [
    "data1"
   ]
  },
  {
   "cell_type": "code",
   "execution_count": 169,
   "metadata": {},
   "outputs": [],
   "source": [
    "kp= KPrototypes(n_clusters=3, init='Cao')\n",
    "kp=kp.fit(data1, categorical=[0])"
   ]
  },
  {
   "cell_type": "code",
   "execution_count": 170,
   "metadata": {},
   "outputs": [
    {
     "name": "stdout",
     "output_type": "stream",
     "text": [
      "[1 2 1 0 0 2 0 1 2 0 2 2 2 1 2 0]\n"
     ]
    }
   ],
   "source": [
    "kps=kp.predict(data1, categorical=[0])\n",
    "print(kps)"
   ]
  },
  {
   "cell_type": "code",
   "execution_count": 171,
   "metadata": {},
   "outputs": [
    {
     "data": {
      "text/plain": [
       "['cluster_kp.pkl']"
      ]
     },
     "execution_count": 171,
     "metadata": {},
     "output_type": "execute_result"
    }
   ],
   "source": [
    "# 存储训练好的模型\n",
    "joblib.dump(kp,'cluster_kp.pkl')"
   ]
  },
  {
   "cell_type": "code",
   "execution_count": null,
   "metadata": {},
   "outputs": [],
   "source": []
  }
 ],
 "metadata": {
  "kernelspec": {
   "display_name": "Python 3",
   "language": "python",
   "name": "python3"
  },
  "language_info": {
   "codemirror_mode": {
    "name": "ipython",
    "version": 3
   },
   "file_extension": ".py",
   "mimetype": "text/x-python",
   "name": "python",
   "nbconvert_exporter": "python",
   "pygments_lexer": "ipython3",
   "version": "3.6.5"
  }
 },
 "nbformat": 4,
 "nbformat_minor": 2
}
